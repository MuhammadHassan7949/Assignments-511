{
 "cells": [
  {
   "cell_type": "code",
   "execution_count": 1,
   "id": "db99ab0a",
   "metadata": {},
   "outputs": [
    {
     "name": "stdout",
     "output_type": "stream",
     "text": [
      "Toyota Camry Engine started.\n"
     ]
    }
   ],
   "source": [
    "class Vehicle:\n",
    "    def __init__(self, brand):\n",
    "        self.brand = brand\n",
    "\n",
    "    def start_engine(self):\n",
    "        return \"Engine started.\"\n",
    "\n",
    "class Car(Vehicle):\n",
    "    def __init__(self, brand, model):\n",
    "        super().__init__(brand)\n",
    "        self.model = model\n",
    "\n",
    "    def start_engine(self):\n",
    "        return f\"{self.brand} {self.model} Engine started.\"\n",
    "\n",
    "# Example usage:\n",
    "car = Car(\"Toyota\", \"Camry\")\n",
    "print(car.start_engine())  # Output: Toyota Camry Engine started.\n"
   ]
  },
  {
   "cell_type": "code",
   "execution_count": null,
   "id": "7f91c91d",
   "metadata": {},
   "outputs": [],
   "source": []
  }
 ],
 "metadata": {
  "kernelspec": {
   "display_name": "Python 3 (ipykernel)",
   "language": "python",
   "name": "python3"
  },
  "language_info": {
   "codemirror_mode": {
    "name": "ipython",
    "version": 3
   },
   "file_extension": ".py",
   "mimetype": "text/x-python",
   "name": "python",
   "nbconvert_exporter": "python",
   "pygments_lexer": "ipython3",
   "version": "3.11.4"
  }
 },
 "nbformat": 4,
 "nbformat_minor": 5
}
