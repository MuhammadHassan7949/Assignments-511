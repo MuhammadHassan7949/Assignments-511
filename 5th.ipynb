{
 "cells": [
  {
   "cell_type": "code",
   "execution_count": null,
   "id": "79440d3d",
   "metadata": {},
   "outputs": [],
   "source": [
    "class BankAccount:\n",
    "    def __init__(self, balance):\n",
    "        self._balance = balance  # _balance is a protected attribute\n",
    "\n",
    "    def get_balance(self):\n",
    "        return self._balance\n",
    "\n",
    "    def deposit(self, amount):\n",
    "        if amount > 0:\n",
    "            self._balance += amount\n",
    "            return f\"Deposited {amount}. New balance: {self._balance}\"\n",
    "        else:\n",
    "            return \"Invalid deposit amount.\"\n",
    "\n",
    "    def withdraw(self, amount):\n",
    "        if 0 < amount <= self._balance:\n",
    "            self._balance -= amount\n",
    "            return f\"Withdrew {amount}. New balance: {self._balance}\"\n",
    "        else:\n",
    "            return \"Invalid withdrawal amount.\"\n",
    "\n",
    "# Example usage:\n",
    "account = BankAccount(1000)\n",
    "print(account.get_balance())        # Output: 1000\n",
    "print(account.deposit(500))         # Output: Deposited 500. New balance: 1500\n",
    "print(account.withdraw(200))        # Output: Withdrew 200. New balance: 1300"
   ]
  }
 ],
 "metadata": {
  "kernelspec": {
   "display_name": "Python 3 (ipykernel)",
   "language": "python",
   "name": "python3"
  },
  "language_info": {
   "codemirror_mode": {
    "name": "ipython",
    "version": 3
   },
   "file_extension": ".py",
   "mimetype": "text/x-python",
   "name": "python",
   "nbconvert_exporter": "python",
   "pygments_lexer": "ipython3",
   "version": "3.11.4"
  }
 },
 "nbformat": 4,
 "nbformat_minor": 5
}
