{
 "cells": [
  {
   "cell_type": "code",
   "execution_count": 1,
   "id": "91f632c2",
   "metadata": {},
   "outputs": [
    {
     "name": "stdout",
     "output_type": "stream",
     "text": [
      "Class A\n",
      "Class B\n"
     ]
    }
   ],
   "source": [
    "class A:\n",
    "    def display(self):\n",
    "        return \"Class A\"\n",
    "\n",
    "class B:\n",
    "    def show(self):\n",
    "        return \"Class B\"\n",
    "\n",
    "class C(A, B):\n",
    "    pass\n",
    "\n",
    "# Example usage:\n",
    "obj = C()\n",
    "print(obj.display())  # Output: Class A\n",
    "print(obj.show())     # Output: Class B"
   ]
  },
  {
   "cell_type": "code",
   "execution_count": null,
   "id": "57dca8b5",
   "metadata": {},
   "outputs": [],
   "source": []
  }
 ],
 "metadata": {
  "kernelspec": {
   "display_name": "Python 3 (ipykernel)",
   "language": "python",
   "name": "python3"
  },
  "language_info": {
   "codemirror_mode": {
    "name": "ipython",
    "version": 3
   },
   "file_extension": ".py",
   "mimetype": "text/x-python",
   "name": "python",
   "nbconvert_exporter": "python",
   "pygments_lexer": "ipython3",
   "version": "3.11.4"
  }
 },
 "nbformat": 4,
 "nbformat_minor": 5
}
